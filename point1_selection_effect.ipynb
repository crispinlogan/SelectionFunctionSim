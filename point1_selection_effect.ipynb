{
 "cells": [
  {
   "cell_type": "markdown",
   "metadata": {},
   "source": [
    "## Addressing point 1 - we try and simulate the effect of the Mx selection effect on the Mx/Mc relation."
   ]
  },
  {
   "cell_type": "code",
   "execution_count": 1,
   "metadata": {},
   "outputs": [],
   "source": [
    "#Imports\n",
    "import os\n",
    "\n",
    "import pandas as pd\n",
    "import numpy as np\n",
    "import scipy.stats\n",
    "import matplotlib.pyplot as plt\n",
    "from astropy.cosmology import WMAP9 as cosmo\n",
    "\n",
    "%matplotlib inline"
   ]
  },
  {
   "cell_type": "code",
   "execution_count": 2,
   "metadata": {},
   "outputs": [],
   "source": [
    "#Set important parameters\n",
    "np.random.seed(0)\n",
    "\n",
    "LxMx_slope = 1.34 #(Mantz 2010 eqn 5 and Table 7)\n",
    "LxMx_norm = 0.80 #(Mantz 2010 eqn 5 and Table 7)"
   ]
  },
  {
   "cell_type": "code",
   "execution_count": 3,
   "metadata": {},
   "outputs": [],
   "source": [
    "#Set up covariance matrix\n",
    "Lx_scatter = np.log10(1.3) #np.log10(1.3) #** 2\n",
    "Mx_scatter = np.log10(1.1) #np.log10(1.1) #** 2\n",
    "LxMx_corr = 1 #0,0.5,1\n",
    "LxMx_cov = LxMx_corr * Lx_scatter * Mx_scatter\n",
    "\n",
    "LxMx_cov_mat = np.array([[Lx_scatter**2,LxMx_cov],\n",
    "                         [LxMx_cov,Mx_scatter**2]])\n",
    "\n",
    "Mc_scatter = np.log10(1.3) #np.log10(1.3) #** 2"
   ]
  },
  {
   "cell_type": "code",
   "execution_count": 4,
   "metadata": {},
   "outputs": [
    {
     "name": "stdout",
     "output_type": "stream",
     "text": [
      "[[0.01298309 0.00471642]\n",
      " [0.00471642 0.00171335]]\n",
      "[[0.01298309 0.00471642]\n",
      " [0.00471642 0.00171335]]\n"
     ]
    }
   ],
   "source": [
    "#Set up covariance matrix - NOW TRY SETTTING IT UP IN NATURAL LOG SPACE, THEN COVERTING \n",
    "#AT THE END INTO LOG10 SPACE - CHECK I GET THE SAME RESULT AS SETTING UP THE COVARIANCE\n",
    "#MATRIX DIRECTLY IN LOG10 SPACE\n",
    "Lx_scatter_ln = 0.26236426446749106#0.3 #np.log10(1.3) #np.log10(1.3) #** 2\n",
    "Mx_scatter_ln = 0.09531017980432493#0.1 #np.log10(1.1) #np.log10(1.1) #** 2\n",
    "#LxMx_corr = 0#np.log10(1.5) #np.log10([1.0,1.1,1.2,1.3,1.4,1.5,1.6,1.7,1.8,1.9,2.0,1000,100000,10000000,1e15,1e100])\n",
    "LxMx_cov = LxMx_corr * Lx_scatter_ln * Mx_scatter_ln\n",
    "\n",
    "LxMx_cov_mat_ln = np.array([[Lx_scatter_ln**2,LxMx_cov],\n",
    "                         [LxMx_cov,Mx_scatter_ln**2]])\n",
    "\n",
    "#scale to base 10 log\n",
    "LxMx_cov_mat_log10_initially_ln = LxMx_cov_mat_ln/np.log(10)**2\n",
    "\n",
    "print(LxMx_cov_mat_log10_initially_ln)\n",
    "print(LxMx_cov_mat)\n",
    "\n",
    "#Mc_scatter = np.log10(1.3) #np.log10(1.3) #** 2"
   ]
  },
  {
   "cell_type": "markdown",
   "metadata": {},
   "source": [
    "I've now set up the covariance matrix, but I'm not sure I've done it right. What complicates things is that we are working with our masses and luminosities in log space. The next two code blocks are to try and understand things further! I do now think we h"
   ]
  },
  {
   "cell_type": "code",
   "execution_count": 5,
   "metadata": {},
   "outputs": [],
   "source": [
    "def cov2corr(cov, return_std=False):\n",
    "    \"\"\"\n",
    "    convert covariance matrix to correlation matrix (TAKEN FROM https://www.statsmodels.org/stable/_modules/statsmodels/stats/moment_helpers.html#cov2corr)\n",
    "\n",
    "    Parameters\n",
    "    ----------\n",
    "    cov : array_like, 2d\n",
    "        covariance matrix, see Notes\n",
    "\n",
    "    Returns\n",
    "    -------\n",
    "    corr : ndarray (subclass)\n",
    "        correlation matrix\n",
    "    return_std : bool\n",
    "        If this is true then the standard deviation is also returned.\n",
    "        By default only the correlation matrix is returned.\n",
    "\n",
    "    Notes\n",
    "    -----\n",
    "    This function does not convert subclasses of ndarrays. This requires that\n",
    "    division is defined elementwise. np.ma.array and np.matrix are allowed.\n",
    "    \"\"\"\n",
    "    cov = np.asanyarray(cov)\n",
    "    std_ = np.sqrt(np.diag(cov))\n",
    "    corr = cov / np.outer(std_, std_)\n",
    "    if return_std:\n",
    "        return corr, std_\n",
    "    else:\n",
    "        return corr"
   ]
  },
  {
   "cell_type": "code",
   "execution_count": 6,
   "metadata": {},
   "outputs": [
    {
     "name": "stdout",
     "output_type": "stream",
     "text": [
      "[[0.01298309 0.00471642]\n",
      " [0.00471642 0.00171335]]\n",
      "[[1. 1.]\n",
      " [1. 1.]]\n"
     ]
    }
   ],
   "source": [
    "corr_mat = cov2corr(LxMx_cov_mat)\n",
    "print(LxMx_cov_mat)\n",
    "print(corr_mat)\n",
    "\n",
    "# LxMx_corr = 0.5#np.log10(1) #np.log10([1.0,1.1,1.2,1.3,1.4,1.5,1.6,1.7,1.8,1.9,2.0,1000,100000,10000000,1e15,1e100])\n",
    "# LxMx_cov = LxMx_corr * Lx_scatter * Mx_scatter\n",
    "# LxMx_cov_mat = np.array([[Lx_scatter**2,LxMx_cov],\n",
    "#                          [LxMx_cov,Mx_scatter**2]])\n",
    "# corr_mat = cov2corr(LxMx_cov_mat)\n",
    "# print(LxMx_cov_mat)\n",
    "# print(corr_mat)"
   ]
  },
  {
   "cell_type": "code",
   "execution_count": 7,
   "metadata": {},
   "outputs": [],
   "source": [
    "########\n",
    "#read in M,z pairs (these are sampled from a mass function -\n",
    "#BM gave me this file)\n",
    "########\n",
    "df = pd.read_csv('checs50Mz_fromBM.dat',delim_whitespace = True)\n",
    "#df['log10M500']\n",
    "#df['z']\n",
    "#df['log10Ez']\n",
    "\n",
    "#Make the df four times as large simply by copying the first half into the second half\n",
    "#so there are more points in the mass range of interest\n",
    "df = df.append(df)\n",
    "df = df.append(df)\n",
    "\n",
    "df['M500'] = 10 ** df['log10M500']\n",
    "df['Ez'] = 10 ** df['log10Ez']"
   ]
  },
  {
   "cell_type": "code",
   "execution_count": 8,
   "metadata": {},
   "outputs": [
    {
     "data": {
      "text/plain": [
       "Text(0.5, 1.0, 'Replicate Mantz 2010 Fig 3 (no scatter added yet, just scaling relation)')"
      ]
     },
     "execution_count": 8,
     "metadata": {},
     "output_type": "execute_result"
    },
    {
     "data": {
      "image/png": "[encoded data removed]",
      "text/plain": [
       "<Figure size 432x288 with 1 Axes>"
      ]
     },
     "metadata": {
      "needs_background": "light"
     },
     "output_type": "display_data"
    }
   ],
   "source": [
    "########\n",
    "#Get Lx and Mx and add to the df (Mantz 2010 eqn 5 and Table 7)\n",
    "########\n",
    "#we want to get L500true\n",
    "df['L500true'] = df['Ez'] * 10 ** ( LxMx_norm + LxMx_slope * np.log10(df['Ez']*df['M500']/10**15) )\n",
    "df['log10L500true'] = np.log10(df['L500true'])\n",
    "\n",
    "#Try and replicate Mantz 2010 Figure 3 LHS to check I've done it right\n",
    "plt.scatter(df['Ez']*df['M500'],df['L500true']/df['Ez'])\n",
    "plt.plot(np.linspace(1e14,50e14,10), 10 ** ( LxMx_norm + LxMx_slope * np.log10(np.linspace(1e14,50e14,10)/10**15) ))\n",
    "plt.xlim(2e14,50e14)\n",
    "plt.ylim(2,50)\n",
    "plt.xlabel('E(z)M500')\n",
    "plt.ylabel('L500true/E(z)')\n",
    "plt.xscale('log')\n",
    "plt.yscale('log')\n",
    "plt.title('Replicate Mantz 2010 Fig 3 (no scatter added yet, just scaling relation)')\n",
    "#plt.savefig('Mantz_relation_no_scatter.png')\n",
    "#plt.show()\n",
    "#plt.clf()\n",
    "#plt.cla()"
   ]
  },
  {
   "cell_type": "code",
   "execution_count": 9,
   "metadata": {},
   "outputs": [
    {
     "data": {
      "text/plain": [
       "Text(0.5, 1.0, 'Lx (i.e. scatter added) vs Ltrue')"
      ]
     },
     "execution_count": 9,
     "metadata": {},
     "output_type": "execute_result"
    },
    {
     "data": {
      "image/png": "[encoded data removed]",
      "text/plain": [
       "<Figure size 432x288 with 1 Axes>"
      ]
     },
     "metadata": {
      "needs_background": "light"
     },
     "output_type": "display_data"
    }
   ],
   "source": [
    "#now sample from a 2D Gaussian with a covariance matrix to describe the\n",
    "#relation between Lx and Mx\n",
    "# log10Lx = np.array([])\n",
    "# log10Mx = np.array([])\n",
    "# for i in range(len(df)):\n",
    "#     if i%10000 == 0:\n",
    "#         print(f'{np.round(i/len(df)*len(df)/4000)}% done')\n",
    "#         #scipy.stats.multivariate_normal.rvs()\n",
    "#     random_sample = np.random.multivariate_normal(mean = np.array([df['log10L500true'].iloc[i],df['log10M500'].iloc[i]]),\n",
    "#                                                   cov = LxMx_cov_mat)\n",
    "#     log10Lx = np.append(log10Lx, random_sample[0])\n",
    "#     log10Mx = np.append(log10Mx, random_sample[1])\n",
    "    \n",
    "# df['log10Lx'] = log10Lx\n",
    "# df['log10Mx'] = log10Mx\n",
    "\n",
    "#This is quicker than the above for loop\n",
    "samples = np.array(list(map(np.random.multivariate_normal,\n",
    "        np.array([df['log10L500true'],df['log10M500']]).transpose(),\n",
    "        [LxMx_cov_mat for i in range(len(df))])))\n",
    "df['log10Lx'] = samples[:,0]\n",
    "df['log10Mx'] = samples[:,1]\n",
    "\n",
    "\n",
    "\n",
    "df['Lx'] = 10 ** df['log10Lx']\n",
    "df['Mx'] = 10 ** df['log10Mx']\n",
    "\n",
    "#plot Ltrue vs Lx just to see scatter and that it's worked as expected\n",
    "plt.scatter(df['L500true'],df['Lx'])\n",
    "plt.xlim([10**-3,10**2])\n",
    "plt.ylim([10**-3,10**2])\n",
    "plt.plot([10**-3,10**2],[10**-3,10**2])\n",
    "plt.xlabel('L500true')\n",
    "plt.ylabel('Lx')\n",
    "plt.xscale('log')\n",
    "plt.yscale('log')\n",
    "plt.title('Lx (i.e. scatter added) vs Ltrue')\n",
    "#plt.savefig(f'{plots_dir}/Lx_vs_Ltrue.png')\n",
    "#plt.show()\n",
    "#plt.clf()\n",
    "#plt.cla()"
   ]
  },
  {
   "cell_type": "code",
   "execution_count": 10,
   "metadata": {},
   "outputs": [
    {
     "data": {
      "text/plain": [
       "Text(0.5, 1.0, 'Mx (i.e. scatter added) vs M500 (true)')"
      ]
     },
     "execution_count": 10,
     "metadata": {},
     "output_type": "execute_result"
    },
    {
     "data": {
      "image/png": "[encoded data removed]",
      "text/plain": [
       "<Figure size 432x288 with 1 Axes>"
      ]
     },
     "metadata": {
      "needs_background": "light"
     },
     "output_type": "display_data"
    }
   ],
   "source": [
    "#plot Ltrue vs Lx just to see scatter and that it's worked as expected\n",
    "plt.scatter(df['M500'],df['Mx'])\n",
    "plt.xlim([10**12,10**16])\n",
    "plt.ylim([10**12,10**16])\n",
    "plt.plot([10**12,10**16],[10**12,10**16])\n",
    "plt.xlabel('M500')\n",
    "plt.ylabel('Mx')\n",
    "plt.xscale('log')\n",
    "plt.yscale('log')\n",
    "plt.title('Mx (i.e. scatter added) vs M500 (true)')\n",
    "#plt.savefig(f'{plots_dir}/Mx_vs_Mtrue.png')\n",
    "#plt.show()\n",
    "#plt.clf()\n",
    "#plt.cla()"
   ]
  },
  {
   "cell_type": "code",
   "execution_count": 11,
   "metadata": {},
   "outputs": [
    {
     "data": {
      "text/plain": [
       "Text(0.5, 1.0, 'Replicate Mantz 2010 Fig 3 (with scatter on Lx)')"
      ]
     },
     "execution_count": 11,
     "metadata": {},
     "output_type": "execute_result"
    },
    {
     "data": {
      "image/png": "[encoded data removed]",
      "text/plain": [
       "<Figure size 432x288 with 1 Axes>"
      ]
     },
     "metadata": {
      "needs_background": "light"
     },
     "output_type": "display_data"
    }
   ],
   "source": [
    "#Try and replicate Mantz 2010 Figure 3 LHS to check I've done it right WITH SCATTER ON LX\n",
    "plt.scatter(df['Ez']*df['M500'],df['Lx']/df['Ez'])\n",
    "plt.plot(np.linspace(1e14,50e14,10), 10 ** ( LxMx_norm + LxMx_slope * np.log10(np.linspace(1e14,50e14,10)/10**15) ))\n",
    "plt.xlim(2e14,50e14)\n",
    "plt.ylim(2,50)\n",
    "plt.xlabel('E(z)M500')\n",
    "plt.ylabel('Lx/E(z)')\n",
    "plt.xscale('log')\n",
    "plt.yscale('log')\n",
    "plt.title('Replicate Mantz 2010 Fig 3 (with scatter on Lx)')\n",
    "#plt.savefig(f'{plots_dir}/Mantz_relation_with_scatter_on_Lx.png')\n",
    "#plt.show()\n",
    "#plt.clf()\n",
    "#plt.cla()"
   ]
  },
  {
   "cell_type": "code",
   "execution_count": 12,
   "metadata": {},
   "outputs": [
    {
     "data": {
      "text/plain": [
       "Text(0.5, 1.0, 'Replicate Mantz 2010 Fig 3 (with scatter on Lx - ZOOMED OUT)')"
      ]
     },
     "execution_count": 12,
     "metadata": {},
     "output_type": "execute_result"
    },
    {
     "data": {
      "image/png": "[encoded data removed]",
      "text/plain": [
       "<Figure size 432x288 with 1 Axes>"
      ]
     },
     "metadata": {
      "needs_background": "light"
     },
     "output_type": "display_data"
    }
   ],
   "source": [
    "plt.scatter(df['Ez']*df['M500'],df['Lx']/df['Ez'])\n",
    "plt.plot(np.linspace(1e14,50e14,10), 10 ** ( LxMx_norm + LxMx_slope * np.log10(np.linspace(1e14,50e14,10)/10**15) ))\n",
    "#plt.xlim(2e14,50e14)\n",
    "#plt.ylim(2,50)\n",
    "plt.xlabel('E(z)M500')\n",
    "plt.ylabel('Lx/E(z)')\n",
    "plt.xscale('log')\n",
    "plt.yscale('log')\n",
    "plt.title('Replicate Mantz 2010 Fig 3 (with scatter on Lx - ZOOMED OUT)')\n",
    "#plt.savefig(f'{plots_dir}/Mantz_relation_with_scatter_on_Lx_ZOOMED_OUT.png')\n",
    "#plt.show()\n",
    "#plt.clf()\n",
    "#plt.cla()"
   ]
  },
  {
   "cell_type": "code",
   "execution_count": 13,
   "metadata": {},
   "outputs": [
    {
     "data": {
      "text/plain": [
       "Text(0.5, 1.0, 'Replicate Mantz 2010 Fig 3 (with scatter on Lx and Mx)')"
      ]
     },
     "execution_count": 13,
     "metadata": {},
     "output_type": "execute_result"
    },
    {
     "data": {
      "image/png": "[encoded data removed]",
      "text/plain": [
       "<Figure size 432x288 with 1 Axes>"
      ]
     },
     "metadata": {
      "needs_background": "light"
     },
     "output_type": "display_data"
    }
   ],
   "source": [
    "#Try and replicate Mantz 2010 Figure 3 LHS to check I've done it right WITH SCATTER ON LX AND MX\n",
    "plt.scatter(df['Ez']*df['Mx'],df['Lx']/df['Ez'])\n",
    "plt.plot(np.linspace(1e14,50e14,10), 10 ** ( LxMx_norm + LxMx_slope * np.log10(np.linspace(1e14,50e14,10)/10**15) ))\n",
    "plt.xlim(2e14,50e14)\n",
    "plt.ylim(2,50)\n",
    "plt.xlabel('E(z)MX500')\n",
    "plt.ylabel('Lx/E(z)')\n",
    "plt.xscale('log')\n",
    "plt.yscale('log')\n",
    "plt.title('Replicate Mantz 2010 Fig 3 (with scatter on Lx and Mx)')\n",
    "#plt.savefig(f'{plots_dir}/Mantz_relation_with_scatter_on_Lx_and_Mx.png')\n",
    "#plt.show()\n",
    "#plt.clf()\n",
    "#plt.cla()"
   ]
  },
  {
   "cell_type": "code",
   "execution_count": 14,
   "metadata": {},
   "outputs": [
    {
     "data": {
      "text/plain": [
       "Text(0.5, 1.0, 'Replicate Mantz 2010 Fig 3 (with scatter on Lx and Mx - ZOOMED OUT)')"
      ]
     },
     "execution_count": 14,
     "metadata": {},
     "output_type": "execute_result"
    },
    {
     "data": {
      "image/png": "[encoded data removed]",
      "text/plain": [
       "<Figure size 432x288 with 1 Axes>"
      ]
     },
     "metadata": {
      "needs_background": "light"
     },
     "output_type": "display_data"
    }
   ],
   "source": [
    "plt.scatter(df['Ez']*df['Mx'],df['Lx']/df['Ez'])\n",
    "plt.plot(np.linspace(1e14,50e14,10), 10 ** ( LxMx_norm + LxMx_slope * np.log10(np.linspace(1e14,50e14,10)/10**15) ))\n",
    "#plt.xlim(2e14,50e14)\n",
    "#plt.ylim(2,50)\n",
    "plt.xlabel('E(z)MX500')\n",
    "plt.ylabel('Lx/E(z)')\n",
    "plt.xscale('log')\n",
    "plt.yscale('log')\n",
    "plt.title('Replicate Mantz 2010 Fig 3 (with scatter on Lx and Mx - ZOOMED OUT)')\n",
    "#plt.savefig(f'{plots_dir}/Mantz_relation_with_scatter_on_Lx_and_Mx_ZOOMED_OUT.png')\n",
    "#plt.show()\n",
    "#plt.clf()\n",
    "#plt.cla()"
   ]
  },
  {
   "cell_type": "code",
   "execution_count": 15,
   "metadata": {},
   "outputs": [
    {
     "data": {
      "text/plain": [
       "Text(0.5, 1.0, 'M vs z')"
      ]
     },
     "execution_count": 15,
     "metadata": {},
     "output_type": "execute_result"
    },
    {
     "data": {
      "image/png": "[encoded data removed]",
      "text/plain": [
       "<Figure size 432x288 with 1 Axes>"
      ]
     },
     "metadata": {
      "needs_background": "light"
     },
     "output_type": "display_data"
    }
   ],
   "source": [
    "#Plot M vs z\n",
    "plt.scatter(df['z'],df['M500'])\n",
    "plt.xlabel('z')\n",
    "plt.ylabel('M500')\n",
    "plt.xscale('log')\n",
    "plt.yscale('log')\n",
    "plt.title('M vs z')\n",
    "#plt.savefig(f'{plots_dir}/M_vs_z.png')\n",
    "#plt.show()\n",
    "#plt.clf()\n",
    "#plt.cla()"
   ]
  },
  {
   "cell_type": "code",
   "execution_count": 16,
   "metadata": {},
   "outputs": [
    {
     "data": {
      "text/plain": [
       "Text(0.5, 1.0, 'Mx vs z')"
      ]
     },
     "execution_count": 16,
     "metadata": {},
     "output_type": "execute_result"
    },
    {
     "data": {
      "image/png": "[encoded data removed]",
      "text/plain": [
       "<Figure size 432x288 with 1 Axes>"
      ]
     },
     "metadata": {
      "needs_background": "light"
     },
     "output_type": "display_data"
    }
   ],
   "source": [
    "#Plot Mx vs z\n",
    "plt.scatter(df['z'],df['Mx'])\n",
    "plt.xlabel('z')\n",
    "plt.ylabel('MX500')\n",
    "plt.xscale('log')\n",
    "plt.yscale('log')\n",
    "plt.title('Mx vs z')\n",
    "#plt.savefig(f'{plots_dir}/Mx_vs_z.png')\n",
    "#plt.show()\n",
    "#plt.clf()\n",
    "#plt.cla()"
   ]
  },
  {
   "cell_type": "code",
   "execution_count": null,
   "metadata": {},
   "outputs": [
    {
     "data": {
      "text/plain": [
       "Text(0.5, 1.0, 'Lx vs z')"
      ]
     },
     "execution_count": 17,
     "metadata": {},
     "output_type": "execute_result"
    }
   ],
   "source": [
    "#Plot Lx vs z\n",
    "plt.scatter(df['z'],df['Lx'])\n",
    "plt.xlabel('z')\n",
    "plt.ylabel('Lx')\n",
    "plt.xscale('log')\n",
    "plt.yscale('log')\n",
    "plt.title('Lx vs z')\n",
    "#plt.savefig(f'{plots_dir}/Lx_vs_z.png')\n",
    "#plt.show()\n",
    "#plt.clf()\n",
    "#plt.cla()"
   ]
  },
  {
   "cell_type": "code",
   "execution_count": null,
   "metadata": {},
   "outputs": [],
   "source": [
    "########\n",
    "#Add flux to df (flux = L / 4* pi * r^2)\n",
    "########\n",
    "df['LumDistMpc'] = cosmo.luminosity_distance(df['z'])\n",
    "df['LumDistCm'] = df['LumDistMpc'] * 3.086e24\n",
    "\n",
    "df['Fluxergcms'] = df['Lx'] * 1e44 / ( 4 * np.pi * df['LumDistCm']**2 )"
   ]
  },
  {
   "cell_type": "code",
   "execution_count": null,
   "metadata": {},
   "outputs": [],
   "source": [
    "np.log10(df['Fluxergcms']).max()"
   ]
  },
  {
   "cell_type": "code",
   "execution_count": null,
   "metadata": {},
   "outputs": [],
   "source": [
    "#Plot M vs flux\n",
    "plt.scatter(np.log10(df['Fluxergcms']),df['M500'])\n",
    "plt.xlabel('Flux')\n",
    "plt.ylabel('M500')\n",
    "#plt.xscale('log')\n",
    "plt.yscale('log')\n",
    "plt.title('M500 vs flux')\n",
    "#plt.savefig(f'{plots_dir}/M_vs_flux.png')\n",
    "#plt.show()\n",
    "#plt.clf()\n",
    "#plt.cla()"
   ]
  },
  {
   "cell_type": "code",
   "execution_count": null,
   "metadata": {},
   "outputs": [],
   "source": [
    "#Plot Mx vs flux\n",
    "plt.scatter(np.log10(df['Fluxergcms']),df['Mx'])\n",
    "plt.xlabel('Flux')\n",
    "plt.ylabel('Mx')\n",
    "#plt.xscale('log')\n",
    "plt.yscale('log')\n",
    "plt.title('Mx vs flux')\n",
    "#plt.savefig(f'{plots_dir}/Mx_vs_flux.png')\n",
    "#plt.show()\n",
    "#plt.clf()\n",
    "#plt.cla()"
   ]
  },
  {
   "cell_type": "code",
   "execution_count": null,
   "metadata": {},
   "outputs": [],
   "source": [
    "########\n",
    "#assign a Mc assuming a 30% scatter and add to df\n",
    "########\n",
    "df['log10Mc'] = np.random.normal(loc = df['log10M500'], scale = Mc_scatter)\n",
    "df['Mc'] = 10**df['log10Mc']\n",
    "\n",
    "########\n",
    "#plot Mx vs Mc with and without selection effect\n",
    "########\n",
    "#Apply flux selection effect\n",
    "selection_effect_mask =  df['Fluxergcms'] > 5e-12\n",
    "\n",
    "plt.scatter(df['log10Mc'][np.invert(selection_effect_mask)], df['log10Mx'][np.invert(selection_effect_mask)], c = 'r', label = 'Hidden')\n",
    "plt.scatter(df['log10Mc'][selection_effect_mask], df['log10Mx'][selection_effect_mask], c = 'b', label = 'Seen')\n",
    "plt.plot([13,16], [13,16], label = '1:1 line')\n",
    "plt.xlim([13,16])\n",
    "plt.ylim([13,16])\n",
    "plt.xlabel('Mc')\n",
    "plt.ylabel('Mx')\n",
    "plt.legend()\n",
    "#plt.savefig(f'{plots_dir}/Mx_VS_Mc_FINAL_PLOT.png')\n",
    "#plt.show()\n",
    "#plt.clf()\n",
    "#plt.cla()"
   ]
  },
  {
   "cell_type": "code",
   "execution_count": null,
   "metadata": {},
   "outputs": [],
   "source": [
    "plt.scatter(df['log10Mc'][np.invert(selection_effect_mask)], df['log10Mx'][np.invert(selection_effect_mask)], c = 'r', label = 'Hidden')\n",
    "plt.scatter(df['log10Mc'][selection_effect_mask], df['log10Mx'][selection_effect_mask], c = 'b', label = 'Seen')\n",
    "plt.plot([14.2,15.4], [14.2,15.4], label = '1:1 line')\n",
    "plt.xlim([14.2,15.4])\n",
    "plt.ylim([14.2,15.4])\n",
    "plt.xlabel('Mc')\n",
    "plt.ylabel('Mx')\n",
    "plt.legend()\n",
    "plt.savefig(f'Mx_VS_Mc_FINAL_PLOT_corr{LxMx_corr}.png')"
   ]
  },
  {
   "cell_type": "markdown",
   "metadata": {},
   "source": [
    "Now  check the size of the effect by taking the median Mx/Mc in bins of Mc to compare \n",
    "with the values in the plot in the Mx/Mc paper with 44 points - we do this by plotting a line connecting these medians on the Mx/Mc plot. (We take medians to avoid taking the means of the Mx/Mc ratios). ACTUALLY I THINK WE WANT TO FIND THE MEDIAN MX IN A GIVEN MC BIN? THIS IS WHAT I'VE DONE - CHECK OK WITH BM"
   ]
  },
  {
   "cell_type": "code",
   "execution_count": null,
   "metadata": {},
   "outputs": [],
   "source": [
    "bin_width = 0.1\n",
    "Mc_min = 14.2\n",
    "Mc_max = 15.2\n",
    "Mc_vals = np.linspace(Mc_min,Mc_max,int((Mc_max-Mc_min)/bin_width)+1)\n",
    "Mc_vals_midpoints = Mc_vals[:-1]+bin_width/2\n",
    "Mx_medians_for_Mc_bin = []\n",
    "for Mc_val in Mc_vals[:-1]:\n",
    "    Mc_mask = np.logical_and(df['Mc']>10**Mc_val,df['Mc']<10**(Mc_val+bin_width))\n",
    "    Mx_medians_for_Mc_bin.append(df['Mx'][np.logical_and(selection_effect_mask,Mc_mask)].median())\n",
    "    \n",
    "plt.scatter(10**Mc_vals_midpoints,Mx_medians_for_Mc_bin)\n",
    "plt.plot([1e14,2e15],[1e14,2e15])\n",
    "plt.xlabel('Mc')\n",
    "plt.ylabel('Mx')\n",
    "plt.xscale('log')\n",
    "plt.yscale('log')\n",
    "plt.savefig(f'Mx_VS_Mc_FINAL_PLOT_BINNED_corr{LxMx_corr}.png')"
   ]
  },
  {
   "cell_type": "code",
   "execution_count": null,
   "metadata": {},
   "outputs": [],
   "source": [
    "#Also plot Mx/Mc value in each Mc bin\n",
    "plt.scatter(10**Mc_vals_midpoints,Mx_medians_for_Mc_bin/(10**Mc_vals_midpoints))\n",
    "plt.plot([1e14,2e15],[1,1])\n",
    "plt.xlabel('Mc')\n",
    "plt.ylabel('Mx')\n",
    "plt.xscale('log')\n",
    "#plt.yscale('log')\n",
    "plt.savefig(f'Mx_VS_Mc_FINAL_PLOT_BINNED_1TO1_LINE_corr{LxMx_corr}.png')"
   ]
  },
  {
   "cell_type": "code",
   "execution_count": null,
   "metadata": {},
   "outputs": [],
   "source": [
    "#Read in Mx and Mc vals and errors for the 44 points in my Mx/Mc paper and plot the \n",
    "#simulated results in bins there (and plot a line joining them)\n",
    "obs_df = pd.read_csv('m500df.dat',delim_whitespace=True)\n",
    "plt.scatter(obs_df['cm500'],obs_df['xm500'],label='Observed Data',c='b')\n",
    "plt.plot(10**Mc_vals_midpoints,Mx_medians_for_Mc_bin,label='Results from Selection Effect Sim',c='r')\n",
    "plt.errorbar(x = obs_df['cm500'], y = obs_df['xm500'], yerr=obs_df['cm500e'], xerr=obs_df['xm500e'], fmt=' ', c='b')\n",
    "plt.plot([0.7e14,3e15],[0.7e14,3e15],label='1:1 line',c='k')\n",
    "plt.xscale('log')\n",
    "plt.yscale('log')\n",
    "plt.legend()\n",
    "plt.savefig(f'Mx_VS_Mc_FINAL_PLOT_BINNED_1TO1_LINE_AND_44_PTS_corr{LxMx_corr}.png')"
   ]
  },
  {
   "cell_type": "markdown",
   "metadata": {},
   "source": [
    "## Checks\n",
    "Here are some checks and interesting plots to help us understand what we are doing/ what we are doing wrong (!)"
   ]
  },
  {
   "cell_type": "code",
   "execution_count": null,
   "metadata": {},
   "outputs": [],
   "source": []
  },
  {
   "cell_type": "code",
   "execution_count": null,
   "metadata": {},
   "outputs": [],
   "source": []
  }
 ],
 "metadata": {
  "kernelspec": {
   "display_name": "Python 3",
   "language": "python",
   "name": "python3"
  },
  "language_info": {
   "codemirror_mode": {
    "name": "ipython",
    "version": 3
   },
   "file_extension": ".py",
   "mimetype": "text/x-python",
   "name": "python",
   "nbconvert_exporter": "python",
   "pygments_lexer": "ipython3",
   "version": "3.7.3"
  }
 },
 "nbformat": 4,
 "nbformat_minor": 4
}
